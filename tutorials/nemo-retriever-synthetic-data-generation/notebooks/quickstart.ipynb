{
 "cells": [
  {
   "cell_type": "markdown",
   "metadata": {},
   "source": [
    "# Synthetic Evaluation Data Generation\n",
    "\n",
    "## Table of Contents\n",
    "1. [Install required libraries](#Install-required-libraries)\n",
    "2. [Prepare input data](#Prepare-input-data)\n",
    "3. [Generate API key](#Generating-API-key)\n",
    "4. [Loading dataset](#Loading-datasets)\n",
    "5. [Reading pipeline config](#Read-pipeline-config)\n",
    "6. [Data Generation](#Running-the-Synthetic-Data-Generator)\n",
    "7. [Data Quality Assessment](#Data-Quality-Assessment)\n"
   ]
  },
  {
   "cell_type": "markdown",
   "metadata": {},
   "source": [
    "### Install required libraries\n",
    "\n",
    "Please install NeMo-Curator and required dependencies following the steps for NeMo-Curator installation. Install the tutorial specific dependencies as follows:\n",
    "```\n",
    "$ pip install -r requirements.txt\n",
    "```\n",
    "\n",
    "Please also see [README.md](../README.md) for environment setup including necessary library installation.\n"
   ]
  },
  {
   "cell_type": "markdown",
   "metadata": {},
   "source": [
    "### Prepare input data\n",
    "\n",
    "The synthetic data generation framework supports two input formats `rawdoc`. \n",
    "\n",
    "- `input_format=rawdoc`\n",
    "\n",
    "The file should be stored in a JSONL format. Each line contains a document in the format of `{\"text\": <document>, \"title\": <title>}`.\n",
    "\n",
    "```\n",
    "{\"text\": \"The quick brown fox jumps over the lazy dog.\", \"title\": \"Classic Pangram\" }\n",
    "{\"text\": \"The Eiffel Tower is an iron lattice tower on the Champ de Mars in Paris.\", \"title\": \"Iconic Landmark\" }\n",
    "...\n",
    "```\n",
    "Additionally, if the documents already have a document id, the input file can also contain document ids. The same ids will be persisted in the generated data as well. Another accepted format is `{\"_id\": <document_id>, \"text\": <document>, \"title\": <title>}`.\n",
    "```\n",
    "{\"_id\": \"5\", \"text\": \"The quick brown fox jumps over the lazy dog.\", \"title\": \"Classic Pangram\" }\n",
    "{\"_id\": \"doc3\", \"text\": \"The Eiffel Tower is an iron lattice tower on the Champ de Mars in Paris.\", \"title\": \"Iconic Landmark\" }\n",
    "...\n",
    "```\n",
    "This repository contains a sample JSONL file `sample_data/sample_data.jsonl`."
   ]
  },
  {
   "cell_type": "code",
   "execution_count": 1,
   "metadata": {},
   "outputs": [],
   "source": [
    "import os\n",
    "from omegaconf import OmegaConf\n",
    "import sys\n",
    "import importlib\n",
    "import warnings\n",
    "warnings.filterwarnings('ignore')\n",
    "\n",
    "\n",
    "from nemo_curator.filters.synthetic import EasinessFilter, AnswerabilityFilter\n",
    "from nemo_curator.modules.filter import ScoreFilter, Score\n",
    "from nemo_curator.datasets import DocumentDataset\n",
    "\n",
    "config = importlib.import_module(\n",
    "    \"tutorials.nemo-retriever-synthetic-data-generation.config.config\"\n",
    ")\n",
    "retriever_evalset_generator = importlib.import_module(\n",
    "    \"tutorials.nemo-retriever-synthetic-data-generation.retriever_evalset_generator\"\n",
    ")"
   ]
  },
  {
   "cell_type": "markdown",
   "metadata": {},
   "source": [
    "## Generating API key\n",
    "\n",
    "- The SDG pipeline uses NIM models, in order to use them, you need to generate an API key.\n",
    "\n",
    "- Visit [this page](https://build.nvidia.com/mistralai/mixtral-8x7b-instruct) and click \"Get API Key\" to generate an API key\n",
    "\n",
    "![NVIDIA API Catalog](../figures/api_key.png) "
   ]
  },
  {
   "cell_type": "markdown",
   "metadata": {},
   "source": [
    "### Loading datasets\n",
    "We now load a sample dataset from out data folder"
   ]
  },
  {
   "cell_type": "code",
   "execution_count": 2,
   "metadata": {},
   "outputs": [],
   "source": [
    "import pandas as pd\n",
    "df = pd.read_json(\"../data/sample_data_rawdoc.jsonl\", lines=True)"
   ]
  },
  {
   "cell_type": "code",
   "execution_count": 3,
   "metadata": {},
   "outputs": [
    {
     "data": {
      "text/html": [
       "<div>\n",
       "<style scoped>\n",
       "    .dataframe tbody tr th:only-of-type {\n",
       "        vertical-align: middle;\n",
       "    }\n",
       "\n",
       "    .dataframe tbody tr th {\n",
       "        vertical-align: top;\n",
       "    }\n",
       "\n",
       "    .dataframe thead th {\n",
       "        text-align: right;\n",
       "    }\n",
       "</style>\n",
       "<table border=\"1\" class=\"dataframe\">\n",
       "  <thead>\n",
       "    <tr style=\"text-align: right;\">\n",
       "      <th></th>\n",
       "      <th>text</th>\n",
       "      <th>title</th>\n",
       "    </tr>\n",
       "  </thead>\n",
       "  <tbody>\n",
       "    <tr>\n",
       "      <th>0</th>\n",
       "      <td>The Eiffel Tower is an iconic landmark of Pari...</td>\n",
       "      <td>Eiffel Tower - A French Icon</td>\n",
       "    </tr>\n",
       "    <tr>\n",
       "      <th>1</th>\n",
       "      <td>The Great Wall of China is a series of fortifi...</td>\n",
       "      <td>The Great Wall of China - Ancient Protection</td>\n",
       "    </tr>\n",
       "    <tr>\n",
       "      <th>2</th>\n",
       "      <td>The Taj Mahal is an ivory-white marble mausole...</td>\n",
       "      <td>Taj Mahal - A Symbol of Love</td>\n",
       "    </tr>\n",
       "    <tr>\n",
       "      <th>3</th>\n",
       "      <td>Machu Picchu is a 15th-century Inca citadel si...</td>\n",
       "      <td>Machu Picchu - Lost City of the Incas</td>\n",
       "    </tr>\n",
       "    <tr>\n",
       "      <th>4</th>\n",
       "      <td>The Colosseum, also known as the Flavian Amphi...</td>\n",
       "      <td>The Colosseum - Ancient Roman Architecture</td>\n",
       "    </tr>\n",
       "  </tbody>\n",
       "</table>\n",
       "</div>"
      ],
      "text/plain": [
       "                                                text  \\\n",
       "0  The Eiffel Tower is an iconic landmark of Pari...   \n",
       "1  The Great Wall of China is a series of fortifi...   \n",
       "2  The Taj Mahal is an ivory-white marble mausole...   \n",
       "3  Machu Picchu is a 15th-century Inca citadel si...   \n",
       "4  The Colosseum, also known as the Flavian Amphi...   \n",
       "\n",
       "                                          title  \n",
       "0                  Eiffel Tower - A French Icon  \n",
       "1  The Great Wall of China - Ancient Protection  \n",
       "2                  Taj Mahal - A Symbol of Love  \n",
       "3         Machu Picchu - Lost City of the Incas  \n",
       "4    The Colosseum - Ancient Roman Architecture  "
      ]
     },
     "execution_count": 3,
     "metadata": {},
     "output_type": "execute_result"
    }
   ],
   "source": [
    "df.head()"
   ]
  },
  {
   "cell_type": "markdown",
   "metadata": {},
   "source": [
    "### Read pipeline config"
   ]
  },
  {
   "cell_type": "code",
   "execution_count": 4,
   "metadata": {},
   "outputs": [],
   "source": [
    "cfg = config.RetrieverEvalSDGConfig.from_yaml(\"../config/config.yaml\")\n",
    "cfg.api_key = \"your api key here\"\n",
    "retrieval_evalset_generator = retriever_evalset_generator.RetrieverEvalSetGenerator(cfg)"
   ]
  },
  {
   "cell_type": "code",
   "execution_count": 5,
   "metadata": {},
   "outputs": [
    {
     "name": "stdout",
     "output_type": "stream",
     "text": [
      "Generator model used = mistralai/mixtral-8x22b-instruct-v0.1\n"
     ]
    }
   ],
   "source": [
    "print (f\"Generator model used = {cfg.generator_model}\")"
   ]
  },
  {
   "cell_type": "markdown",
   "metadata": {},
   "source": [
    "### Running the Synthetic Data Generator\n",
    "We first create the dataset object from the pandas dataframe, and pass along the dataset object through the generator and the filters. The dataset object gets transformed along the different steps of the pipeline (i.e. generator, filters)"
   ]
  },
  {
   "cell_type": "code",
   "execution_count": 6,
   "metadata": {},
   "outputs": [],
   "source": [
    "dataset = DocumentDataset.from_pandas(df)\n",
    "generated_dataset = retrieval_evalset_generator(dataset)\n",
    "generated_df = generated_dataset.df.compute()"
   ]
  },
  {
   "cell_type": "markdown",
   "metadata": {},
   "source": [
    "### Probing the generated Data\n",
    "For those documents that do not have a document id, the pipeline generates a random hash as document id. For those that have an existing document id, the pipeline persists the same ids in the generated data."
   ]
  },
  {
   "cell_type": "code",
   "execution_count": 7,
   "metadata": {},
   "outputs": [
    {
     "data": {
      "text/html": [
       "<div>\n",
       "<style scoped>\n",
       "    .dataframe tbody tr th:only-of-type {\n",
       "        vertical-align: middle;\n",
       "    }\n",
       "\n",
       "    .dataframe tbody tr th {\n",
       "        vertical-align: top;\n",
       "    }\n",
       "\n",
       "    .dataframe thead th {\n",
       "        text-align: right;\n",
       "    }\n",
       "</style>\n",
       "<table border=\"1\" class=\"dataframe\">\n",
       "  <thead>\n",
       "    <tr style=\"text-align: right;\">\n",
       "      <th></th>\n",
       "      <th>text</th>\n",
       "      <th>title</th>\n",
       "      <th>question</th>\n",
       "      <th>_id</th>\n",
       "      <th>question-id</th>\n",
       "      <th>answer</th>\n",
       "      <th>score</th>\n",
       "    </tr>\n",
       "  </thead>\n",
       "  <tbody>\n",
       "    <tr>\n",
       "      <th>0</th>\n",
       "      <td>The Eiffel Tower is an iconic landmark of Pari...</td>\n",
       "      <td>Eiffel Tower - A French Icon</td>\n",
       "      <td>What is the significance of the Eiffel Tower i...</td>\n",
       "      <td>342d2d470596528b192b9f0a12d0ec5f4798ab1fc84090...</td>\n",
       "      <td>c6075864cc0c9318df5456c2b06bfb581562542205ff99...</td>\n",
       "      <td>The Eiffel Tower is an iconic landmark in Pari...</td>\n",
       "      <td>1</td>\n",
       "    </tr>\n",
       "    <tr>\n",
       "      <th>1</th>\n",
       "      <td>The Eiffel Tower is an iconic landmark of Pari...</td>\n",
       "      <td>Eiffel Tower - A French Icon</td>\n",
       "      <td>Who was responsible for designing the Eiffel T...</td>\n",
       "      <td>12dcafeb731d5ef4e1903f1e6cc35bfa9d5e40f740e967...</td>\n",
       "      <td>003de77e8d7a0d499d75edfc5ad4633d4a2703b89c1f09...</td>\n",
       "      <td>The Eiffel Tower was designed by the engineer ...</td>\n",
       "      <td>1</td>\n",
       "    </tr>\n",
       "    <tr>\n",
       "      <th>2</th>\n",
       "      <td>The Eiffel Tower is an iconic landmark of Pari...</td>\n",
       "      <td>Eiffel Tower - A French Icon</td>\n",
       "      <td>When was the Eiffel Tower built and for what p...</td>\n",
       "      <td>e5d22c48da4684bf5da4afe414d2d6630709e5b134b847...</td>\n",
       "      <td>eb5bfbf35e7d53cc2affc58146721a017c72c38344ca1d...</td>\n",
       "      <td>The Eiffel Tower was built in 1889 for the Exp...</td>\n",
       "      <td>1</td>\n",
       "    </tr>\n",
       "    <tr>\n",
       "      <th>3</th>\n",
       "      <td>The Great Wall of China is a series of fortifi...</td>\n",
       "      <td>The Great Wall of China - Ancient Protection</td>\n",
       "      <td>What materials were used to construct the Grea...</td>\n",
       "      <td>dab619e293076e8119d9dd0d0ea4a69bf0fff0f526951f...</td>\n",
       "      <td>03c619187f0aae660725a45533184a2ccf58ebb264d92a...</td>\n",
       "      <td>The Great Wall of China was constructed using ...</td>\n",
       "      <td>1</td>\n",
       "    </tr>\n",
       "    <tr>\n",
       "      <th>4</th>\n",
       "      <td>The Great Wall of China is a series of fortifi...</td>\n",
       "      <td>The Great Wall of China - Ancient Protection</td>\n",
       "      <td>What was the primary purpose of building the G...</td>\n",
       "      <td>329021930f100a10785cea69e4c1c42a965e5c1892b3ae...</td>\n",
       "      <td>b4d63625700e8f80dd0c42668eb1625d8c58e9716b904a...</td>\n",
       "      <td>The primary purpose of building the Great Wall...</td>\n",
       "      <td>1</td>\n",
       "    </tr>\n",
       "  </tbody>\n",
       "</table>\n",
       "</div>"
      ],
      "text/plain": [
       "                                                text  \\\n",
       "0  The Eiffel Tower is an iconic landmark of Pari...   \n",
       "1  The Eiffel Tower is an iconic landmark of Pari...   \n",
       "2  The Eiffel Tower is an iconic landmark of Pari...   \n",
       "3  The Great Wall of China is a series of fortifi...   \n",
       "4  The Great Wall of China is a series of fortifi...   \n",
       "\n",
       "                                          title  \\\n",
       "0                  Eiffel Tower - A French Icon   \n",
       "1                  Eiffel Tower - A French Icon   \n",
       "2                  Eiffel Tower - A French Icon   \n",
       "3  The Great Wall of China - Ancient Protection   \n",
       "4  The Great Wall of China - Ancient Protection   \n",
       "\n",
       "                                            question  \\\n",
       "0  What is the significance of the Eiffel Tower i...   \n",
       "1  Who was responsible for designing the Eiffel T...   \n",
       "2  When was the Eiffel Tower built and for what p...   \n",
       "3  What materials were used to construct the Grea...   \n",
       "4  What was the primary purpose of building the G...   \n",
       "\n",
       "                                                 _id  \\\n",
       "0  342d2d470596528b192b9f0a12d0ec5f4798ab1fc84090...   \n",
       "1  12dcafeb731d5ef4e1903f1e6cc35bfa9d5e40f740e967...   \n",
       "2  e5d22c48da4684bf5da4afe414d2d6630709e5b134b847...   \n",
       "3  dab619e293076e8119d9dd0d0ea4a69bf0fff0f526951f...   \n",
       "4  329021930f100a10785cea69e4c1c42a965e5c1892b3ae...   \n",
       "\n",
       "                                         question-id  \\\n",
       "0  c6075864cc0c9318df5456c2b06bfb581562542205ff99...   \n",
       "1  003de77e8d7a0d499d75edfc5ad4633d4a2703b89c1f09...   \n",
       "2  eb5bfbf35e7d53cc2affc58146721a017c72c38344ca1d...   \n",
       "3  03c619187f0aae660725a45533184a2ccf58ebb264d92a...   \n",
       "4  b4d63625700e8f80dd0c42668eb1625d8c58e9716b904a...   \n",
       "\n",
       "                                              answer  score  \n",
       "0  The Eiffel Tower is an iconic landmark in Pari...      1  \n",
       "1  The Eiffel Tower was designed by the engineer ...      1  \n",
       "2  The Eiffel Tower was built in 1889 for the Exp...      1  \n",
       "3  The Great Wall of China was constructed using ...      1  \n",
       "4  The primary purpose of building the Great Wall...      1  "
      ]
     },
     "execution_count": 7,
     "metadata": {},
     "output_type": "execute_result"
    }
   ],
   "source": [
    "generated_df.head()"
   ]
  },
  {
   "cell_type": "markdown",
   "metadata": {},
   "source": [
    "### Data Quality Assessment\n",
    "We apply two filters:\n",
    "\n",
    "*Answerability filer* uses LLM-as-judge in order to determine quality of questions in terms of them being answerable from content in the passage. The filter weeds out questions that are invalid and not relevant to the document chunk that was used to generate them.\n",
    "\n",
    "*Easiness filter* is used to filter out questions that are deemed easy for the retriever models to retrieve positive passages for the given generated question. It uses embedding model as judge. The user needs to provide threshold (number between 0 and 1) for this filter. Lower the value of the filter, harder the questions in the dataset. If the threshold value is higher, then we have many easy questions in the dataset. \n",
    "\n",
    "The filters can be applied in any order. "
   ]
  },
  {
   "cell_type": "code",
   "execution_count": 8,
   "metadata": {},
   "outputs": [],
   "source": [
    "ef = EasinessFilter(cfg.base_url,\n",
    "                    cfg.api_key,\n",
    "                    cfg.easiness_filter,\n",
    "                    cfg.percentile,\n",
    "                    cfg.truncate,\n",
    "                    cfg.batch_size)\n",
    "easiness_filter = ScoreFilter(ef,\n",
    "                              text_field = [\"text\", \"question\"],\n",
    "                              score_field = \"easiness_scores\")\n",
    "af = AnswerabilityFilter(cfg.base_url,\n",
    "                         cfg.api_key,\n",
    "                         cfg.answerability_filter,\n",
    "                         cfg.answerability_system_prompt,\n",
    "                         cfg.answerability_user_prompt_template,\n",
    "                         cfg.num_criteria)\n",
    "answerability_filter = ScoreFilter(af,\n",
    "                              text_field = [\"text\", \"question\"],\n",
    "                              score_field = \"answerability_scores\")"
   ]
  },
  {
   "cell_type": "markdown",
   "metadata": {},
   "source": [
    "### Easiness filter\n",
    "We see an additional column being generated \"easiness_scores\". This filter removes questions that are too easy to retrieve by retriever models."
   ]
  },
  {
   "cell_type": "code",
   "execution_count": 9,
   "metadata": {},
   "outputs": [],
   "source": [
    "filtered_dataset = easiness_filter(generated_dataset)\n",
    "filtered_df_1 = filtered_dataset.df.compute()"
   ]
  },
  {
   "cell_type": "code",
   "execution_count": 10,
   "metadata": {},
   "outputs": [
    {
     "data": {
      "text/html": [
       "<div>\n",
       "<style scoped>\n",
       "    .dataframe tbody tr th:only-of-type {\n",
       "        vertical-align: middle;\n",
       "    }\n",
       "\n",
       "    .dataframe tbody tr th {\n",
       "        vertical-align: top;\n",
       "    }\n",
       "\n",
       "    .dataframe thead th {\n",
       "        text-align: right;\n",
       "    }\n",
       "</style>\n",
       "<table border=\"1\" class=\"dataframe\">\n",
       "  <thead>\n",
       "    <tr style=\"text-align: right;\">\n",
       "      <th></th>\n",
       "      <th>text</th>\n",
       "      <th>title</th>\n",
       "      <th>question</th>\n",
       "      <th>_id</th>\n",
       "      <th>question-id</th>\n",
       "      <th>answer</th>\n",
       "      <th>score</th>\n",
       "      <th>easiness_scores</th>\n",
       "    </tr>\n",
       "  </thead>\n",
       "  <tbody>\n",
       "    <tr>\n",
       "      <th>1</th>\n",
       "      <td>The Eiffel Tower is an iconic landmark of Pari...</td>\n",
       "      <td>Eiffel Tower - A French Icon</td>\n",
       "      <td>Who was the engineer behind the design of the ...</td>\n",
       "      <td>5b31740eab0e66fa435ac3b2d0f3ad299e9bc885da22ad...</td>\n",
       "      <td>985cd7b5de889c7b62eca2d45b83eac5c1ba6fa2dce681...</td>\n",
       "      <td>The Eiffel Tower was designed by the engineer ...</td>\n",
       "      <td>1</td>\n",
       "      <td>0.569564</td>\n",
       "    </tr>\n",
       "    <tr>\n",
       "      <th>3</th>\n",
       "      <td>The Great Wall of China is a series of fortifi...</td>\n",
       "      <td>The Great Wall of China - Ancient Protection</td>\n",
       "      <td>What is the purpose of the Great Wall of China?</td>\n",
       "      <td>2e40d9da383f39586c7f4a2e6cdc930de7ceaa1800d41c...</td>\n",
       "      <td>108ee53f98dcba40d2e4654df9e41dadf313000b2cfbb0...</td>\n",
       "      <td>The purpose of the Great Wall of China is to p...</td>\n",
       "      <td>1</td>\n",
       "      <td>0.527854</td>\n",
       "    </tr>\n",
       "    <tr>\n",
       "      <th>4</th>\n",
       "      <td>The Great Wall of China is a series of fortifi...</td>\n",
       "      <td>The Great Wall of China - Ancient Protection</td>\n",
       "      <td>What materials were used to build the Great Wa...</td>\n",
       "      <td>b05babced766cf6b65f43bc0d8c927d08a271d30423cd8...</td>\n",
       "      <td>a698316fccdb6facb8341372778863bb092fe71bc60357...</td>\n",
       "      <td>The Great Wall of China was built using materi...</td>\n",
       "      <td>1</td>\n",
       "      <td>0.550470</td>\n",
       "    </tr>\n",
       "    <tr>\n",
       "      <th>5</th>\n",
       "      <td>The Great Wall of China is a series of fortifi...</td>\n",
       "      <td>The Great Wall of China - Ancient Protection</td>\n",
       "      <td>What is the general direction of the Great Wal...</td>\n",
       "      <td>88cd9adc26f148a24a1fbde7c5dfed1033db29c7ab997f...</td>\n",
       "      <td>a5996280c5a2b382c206ab4fc69b8981f7588a6c216b63...</td>\n",
       "      <td>The Great Wall of China was generally built al...</td>\n",
       "      <td>1</td>\n",
       "      <td>0.462438</td>\n",
       "    </tr>\n",
       "    <tr>\n",
       "      <th>6</th>\n",
       "      <td>The Taj Mahal is an ivory-white marble mausole...</td>\n",
       "      <td>Taj Mahal - A Symbol of Love</td>\n",
       "      <td>What is the Taj Mahal primarily used for?</td>\n",
       "      <td>4eaff3017898dab67377f19bef2cf7bbf7ee1223a661f7...</td>\n",
       "      <td>1e2f14820a6f599a5d124f5cd6b0e2575a0fa601a36d5f...</td>\n",
       "      <td>The Taj Mahal is primarily used as a mausoleum...</td>\n",
       "      <td>1</td>\n",
       "      <td>0.444493</td>\n",
       "    </tr>\n",
       "  </tbody>\n",
       "</table>\n",
       "</div>"
      ],
      "text/plain": [
       "                                                text  \\\n",
       "1  The Eiffel Tower is an iconic landmark of Pari...   \n",
       "3  The Great Wall of China is a series of fortifi...   \n",
       "4  The Great Wall of China is a series of fortifi...   \n",
       "5  The Great Wall of China is a series of fortifi...   \n",
       "6  The Taj Mahal is an ivory-white marble mausole...   \n",
       "\n",
       "                                          title  \\\n",
       "1                  Eiffel Tower - A French Icon   \n",
       "3  The Great Wall of China - Ancient Protection   \n",
       "4  The Great Wall of China - Ancient Protection   \n",
       "5  The Great Wall of China - Ancient Protection   \n",
       "6                  Taj Mahal - A Symbol of Love   \n",
       "\n",
       "                                            question  \\\n",
       "1  Who was the engineer behind the design of the ...   \n",
       "3    What is the purpose of the Great Wall of China?   \n",
       "4  What materials were used to build the Great Wa...   \n",
       "5  What is the general direction of the Great Wal...   \n",
       "6          What is the Taj Mahal primarily used for?   \n",
       "\n",
       "                                                 _id  \\\n",
       "1  5b31740eab0e66fa435ac3b2d0f3ad299e9bc885da22ad...   \n",
       "3  2e40d9da383f39586c7f4a2e6cdc930de7ceaa1800d41c...   \n",
       "4  b05babced766cf6b65f43bc0d8c927d08a271d30423cd8...   \n",
       "5  88cd9adc26f148a24a1fbde7c5dfed1033db29c7ab997f...   \n",
       "6  4eaff3017898dab67377f19bef2cf7bbf7ee1223a661f7...   \n",
       "\n",
       "                                         question-id  \\\n",
       "1  985cd7b5de889c7b62eca2d45b83eac5c1ba6fa2dce681...   \n",
       "3  108ee53f98dcba40d2e4654df9e41dadf313000b2cfbb0...   \n",
       "4  a698316fccdb6facb8341372778863bb092fe71bc60357...   \n",
       "5  a5996280c5a2b382c206ab4fc69b8981f7588a6c216b63...   \n",
       "6  1e2f14820a6f599a5d124f5cd6b0e2575a0fa601a36d5f...   \n",
       "\n",
       "                                              answer  score  easiness_scores  \n",
       "1  The Eiffel Tower was designed by the engineer ...      1         0.569564  \n",
       "3  The purpose of the Great Wall of China is to p...      1         0.527854  \n",
       "4  The Great Wall of China was built using materi...      1         0.550470  \n",
       "5  The Great Wall of China was generally built al...      1         0.462438  \n",
       "6  The Taj Mahal is primarily used as a mausoleum...      1         0.444493  "
      ]
     },
     "execution_count": 10,
     "metadata": {},
     "output_type": "execute_result"
    }
   ],
   "source": [
    "filtered_df_1.head()"
   ]
  },
  {
   "cell_type": "code",
   "execution_count": 11,
   "metadata": {},
   "outputs": [
    {
     "name": "stdout",
     "output_type": "stream",
     "text": [
      "Total number of generated data points = 30\n",
      "Total number of data points after application of easiness filter = 21\n"
     ]
    }
   ],
   "source": [
    "print (f\"Total number of generated data points = {generated_df.shape[0]}\") \n",
    "print (f\"Total number of data points after application of easiness filter = {filtered_df_1.shape[0]}\")"
   ]
  },
  {
   "cell_type": "markdown",
   "metadata": {},
   "source": [
    "### Answerability filter\n",
    "We see additional column \"answerability scores\", which shows the rating provided by the LLM-as-judge on criteria used to judge the questions. The criteria can be found in the config. "
   ]
  },
  {
   "cell_type": "code",
   "execution_count": 12,
   "metadata": {},
   "outputs": [],
   "source": [
    "filtered_dataset_2 = answerability_filter(filtered_dataset)\n",
    "filtered_df_2 = filtered_dataset_2.df.compute()"
   ]
  },
  {
   "cell_type": "code",
   "execution_count": 13,
   "metadata": {},
   "outputs": [
    {
     "data": {
      "text/html": [
       "<div>\n",
       "<style scoped>\n",
       "    .dataframe tbody tr th:only-of-type {\n",
       "        vertical-align: middle;\n",
       "    }\n",
       "\n",
       "    .dataframe tbody tr th {\n",
       "        vertical-align: top;\n",
       "    }\n",
       "\n",
       "    .dataframe thead th {\n",
       "        text-align: right;\n",
       "    }\n",
       "</style>\n",
       "<table border=\"1\" class=\"dataframe\">\n",
       "  <thead>\n",
       "    <tr style=\"text-align: right;\">\n",
       "      <th></th>\n",
       "      <th>text</th>\n",
       "      <th>title</th>\n",
       "      <th>question</th>\n",
       "      <th>_id</th>\n",
       "      <th>question-id</th>\n",
       "      <th>answer</th>\n",
       "      <th>score</th>\n",
       "      <th>easiness_scores</th>\n",
       "      <th>answerability_scores</th>\n",
       "    </tr>\n",
       "  </thead>\n",
       "  <tbody>\n",
       "    <tr>\n",
       "      <th>3</th>\n",
       "      <td>The Great Wall of China is a series of fortifi...</td>\n",
       "      <td>The Great Wall of China - Ancient Protection</td>\n",
       "      <td>What materials were used to construct the Grea...</td>\n",
       "      <td>a5b2fd08b6a424a371b12c7d07c37044abddf168427dee...</td>\n",
       "      <td>e5078730ce04b2f8314fced830fbb037528097bfa4c9f8...</td>\n",
       "      <td>The Great Wall of China was constructed using ...</td>\n",
       "      <td>1</td>\n",
       "      <td>0.553092</td>\n",
       "      <td>{\\n\"criterion_1_explanation\": \"The question is...</td>\n",
       "    </tr>\n",
       "    <tr>\n",
       "      <th>4</th>\n",
       "      <td>The Great Wall of China is a series of fortifi...</td>\n",
       "      <td>The Great Wall of China - Ancient Protection</td>\n",
       "      <td>What was the primary purpose of building the G...</td>\n",
       "      <td>51d260dd9881d4176553b1a416d3f299a375d903fc677b...</td>\n",
       "      <td>4b5c0ad1ac49efb0f1d252792e4537c960566309f33eb0...</td>\n",
       "      <td>The primary purpose of building the Great Wall...</td>\n",
       "      <td>1</td>\n",
       "      <td>0.505319</td>\n",
       "      <td>{\\n\"criterion_1_explanation\": \"The question is...</td>\n",
       "    </tr>\n",
       "    <tr>\n",
       "      <th>5</th>\n",
       "      <td>The Great Wall of China is a series of fortifi...</td>\n",
       "      <td>The Great Wall of China - Ancient Protection</td>\n",
       "      <td>Which direction was the Great Wall of China ge...</td>\n",
       "      <td>5bf59b2efabd4a5b0d2f179841ff1cdc41086e6598a098...</td>\n",
       "      <td>96456def817ac60dfa8a34f3983aba20209ec661d88535...</td>\n",
       "      <td>The Great Wall of China was generally built al...</td>\n",
       "      <td>1</td>\n",
       "      <td>0.545968</td>\n",
       "      <td>{\\n\"criterion_1_explanation\": \"The question is...</td>\n",
       "    </tr>\n",
       "    <tr>\n",
       "      <th>6</th>\n",
       "      <td>The Taj Mahal is an ivory-white marble mausole...</td>\n",
       "      <td>Taj Mahal - A Symbol of Love</td>\n",
       "      <td>What is the Taj Mahal primarily made of?</td>\n",
       "      <td>7cf289552442f65170be4c4d0a950a65b9d21ffeeca05d...</td>\n",
       "      <td>53ea4d4ff9ba312d953c3a2a393bb503712f6036830aa8...</td>\n",
       "      <td>The Taj Mahal is primarily made of ivory-white...</td>\n",
       "      <td>1</td>\n",
       "      <td>0.422271</td>\n",
       "      <td>{\\n\"criterion_1_explanation\": \"The question is...</td>\n",
       "    </tr>\n",
       "    <tr>\n",
       "      <th>7</th>\n",
       "      <td>The Taj Mahal is an ivory-white marble mausole...</td>\n",
       "      <td>Taj Mahal - A Symbol of Love</td>\n",
       "      <td>Who commissioned the construction of the Taj M...</td>\n",
       "      <td>3290bf8bb526a81774e70939849fd84a4ed49e708677ca...</td>\n",
       "      <td>914f2cc013c20a7e34737435f17db7e05a38e8da333109...</td>\n",
       "      <td>The Taj Mahal was commissioned by the Mughal e...</td>\n",
       "      <td>1</td>\n",
       "      <td>0.547095</td>\n",
       "      <td>{\\n\"criterion_1_explanation\": \"The question is...</td>\n",
       "    </tr>\n",
       "  </tbody>\n",
       "</table>\n",
       "</div>"
      ],
      "text/plain": [
       "                                                text  \\\n",
       "3  The Great Wall of China is a series of fortifi...   \n",
       "4  The Great Wall of China is a series of fortifi...   \n",
       "5  The Great Wall of China is a series of fortifi...   \n",
       "6  The Taj Mahal is an ivory-white marble mausole...   \n",
       "7  The Taj Mahal is an ivory-white marble mausole...   \n",
       "\n",
       "                                          title  \\\n",
       "3  The Great Wall of China - Ancient Protection   \n",
       "4  The Great Wall of China - Ancient Protection   \n",
       "5  The Great Wall of China - Ancient Protection   \n",
       "6                  Taj Mahal - A Symbol of Love   \n",
       "7                  Taj Mahal - A Symbol of Love   \n",
       "\n",
       "                                            question  \\\n",
       "3  What materials were used to construct the Grea...   \n",
       "4  What was the primary purpose of building the G...   \n",
       "5  Which direction was the Great Wall of China ge...   \n",
       "6           What is the Taj Mahal primarily made of?   \n",
       "7  Who commissioned the construction of the Taj M...   \n",
       "\n",
       "                                                 _id  \\\n",
       "3  a5b2fd08b6a424a371b12c7d07c37044abddf168427dee...   \n",
       "4  51d260dd9881d4176553b1a416d3f299a375d903fc677b...   \n",
       "5  5bf59b2efabd4a5b0d2f179841ff1cdc41086e6598a098...   \n",
       "6  7cf289552442f65170be4c4d0a950a65b9d21ffeeca05d...   \n",
       "7  3290bf8bb526a81774e70939849fd84a4ed49e708677ca...   \n",
       "\n",
       "                                         question-id  \\\n",
       "3  e5078730ce04b2f8314fced830fbb037528097bfa4c9f8...   \n",
       "4  4b5c0ad1ac49efb0f1d252792e4537c960566309f33eb0...   \n",
       "5  96456def817ac60dfa8a34f3983aba20209ec661d88535...   \n",
       "6  53ea4d4ff9ba312d953c3a2a393bb503712f6036830aa8...   \n",
       "7  914f2cc013c20a7e34737435f17db7e05a38e8da333109...   \n",
       "\n",
       "                                              answer  score  easiness_scores  \\\n",
       "3  The Great Wall of China was constructed using ...      1         0.553092   \n",
       "4  The primary purpose of building the Great Wall...      1         0.505319   \n",
       "5  The Great Wall of China was generally built al...      1         0.545968   \n",
       "6  The Taj Mahal is primarily made of ivory-white...      1         0.422271   \n",
       "7  The Taj Mahal was commissioned by the Mughal e...      1         0.547095   \n",
       "\n",
       "                                answerability_scores  \n",
       "3  {\\n\"criterion_1_explanation\": \"The question is...  \n",
       "4  {\\n\"criterion_1_explanation\": \"The question is...  \n",
       "5  {\\n\"criterion_1_explanation\": \"The question is...  \n",
       "6  {\\n\"criterion_1_explanation\": \"The question is...  \n",
       "7  {\\n\"criterion_1_explanation\": \"The question is...  "
      ]
     },
     "execution_count": 13,
     "metadata": {},
     "output_type": "execute_result"
    }
   ],
   "source": [
    "filtered_df_2.head()"
   ]
  },
  {
   "cell_type": "code",
   "execution_count": 14,
   "metadata": {},
   "outputs": [
    {
     "name": "stdout",
     "output_type": "stream",
     "text": [
      "Total number of data points after application of answerability filter = 19\n"
     ]
    }
   ],
   "source": [
    "print (f\"Total number of data points after application of answerability filter = {filtered_df_2.shape[0]}\")"
   ]
  },
  {
   "cell_type": "markdown",
   "metadata": {},
   "source": [
    "We see that upon adding the answerability filter, the number of data points further reduced. We removed unanswerable questions i.e. questions that can't be answered solely based on content provided in the context document."
   ]
  }
 ],
 "metadata": {
  "kernelspec": {
   "display_name": "Python 3 (ipykernel)",
   "language": "python",
   "name": "python3"
  },
  "language_info": {
   "codemirror_mode": {
    "name": "ipython",
    "version": 3
   },
   "file_extension": ".py",
   "mimetype": "text/x-python",
   "name": "python",
   "nbconvert_exporter": "python",
   "pygments_lexer": "ipython3",
   "version": "3.10.14"
  }
 },
 "nbformat": 4,
 "nbformat_minor": 4
}
